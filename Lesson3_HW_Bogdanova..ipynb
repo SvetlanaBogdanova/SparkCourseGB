﻿{
  "metadata": {
    "name": "Lesson3_HW_Bogdanova",
    "kernelspec": {
      "language": "scala",
      "name": "spark2-scala"
    },
    "language_info": {
      "codemirror_mode": "text/x-scala",
      "file_extension": ".scala",
      "mimetype": "text/x-scala",
      "name": "scala",
      "pygments_lexer": "scala"
    }
  },
  "nbformat": 4,
  "nbformat_minor": 2,
  "cells": [
    {
      "cell_type": "code",
      "execution_count": 0,
      "metadata": {
        "autoscroll": "auto"
      },
      "outputs": [],
      "source": "%pyspark\n\nfrom pyspark.sql import SparkSession"
    },
    {
      "cell_type": "code",
      "execution_count": 1,
      "metadata": {
        "autoscroll": "auto"
      },
      "outputs": [],
      "source": "%pyspark\n\nspark \u003d SparkSession \\\n    .builder \\\n    .appName(\"TestApp\") \\\n    .getOrCreate()"
    },
    {
      "cell_type": "code",
      "execution_count": 2,
      "metadata": {
        "autoscroll": "auto"
      },
      "outputs": [],
      "source": "%pyspark\nsc \u003d spark.sparkContext"
    },
    {
      "cell_type": "code",
      "execution_count": 3,
      "metadata": {
        "autoscroll": "auto"
      },
      "outputs": [],
      "source": "%pyspark\n\ndata \u003d sc.parallelize([\n    \u0027Ему не было еще сорока, но у него была уже дочь двенадцати лет и два сына гимназиста.\u0027,\n    \u0027Его женили рано, когда он был еще студентом второго курса, и теперь жена казалась в полтора раза старше его.\u0027,\n    \u0027Это была женщина высокая, с темными бровями, прямая, важная, солидная и, как она сама себя называла, мыслящая.\u0027,\n    \u0027В обществе мужчин ему было скучно, не по себе, с ними он был неразговорчив, холоден, но когда находился среди женщин, то чувствовал себя свободно и знал, о чем говорить с ними и как держать себя; и даже молчать с ними ему было легко.\u0027,\n    \u0027В его наружности, в характере, во всей его натуре было что-то привлекательное, неуловимое, что располагало к нему женщин, манило их; он знал об этом, и самого его тоже какая-то сила влекла к ним.\u0027\n    ])\n\ndata.collect()"
    },
    {
      "cell_type": "code",
      "execution_count": 4,
      "metadata": {
        "autoscroll": "auto"
      },
      "outputs": [],
      "source": "%pyspark\n# Разобъём предложения на слова, удалив при этом знаки препинания, и приведём всё в нижний регистр.\nwords \u003d data.flatMap(lambda x: x.split(\u0027 \u0027)).map(lambda x: x.replace(\".\", \"\").replace(\";\", \"\").replace(\",\", \"\")).map(lambda x: x.lower())\nwords.collect()"
    },
    {
      "cell_type": "code",
      "execution_count": 5,
      "metadata": {
        "autoscroll": "auto"
      },
      "outputs": [],
      "source": "%pyspark\n# Проставим напротив каждого слова 1 и посчитаем с помощью reduceByKey количество вхождений каждого слова.\nfrom operator import add\nwords.map(lambda x: (x, 1)).reduceByKey(add).collect()"
    },
    {
      "cell_type": "raw",
      "metadata": {
        "format": "text/plain"
      },
      "source": "%pyspark\n"
    }
  ]
}